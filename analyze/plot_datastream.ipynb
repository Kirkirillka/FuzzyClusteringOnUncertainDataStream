{
 "cells": [
  {
   "cell_type": "code",
   "execution_count": 1,
   "metadata": {
    "collapsed": true,
    "pycharm": {
     "is_executing": false
    }
   },
   "outputs": [],
   "source": [
    "from sqlalchemy import create_engine\n",
    "\n",
    "ADDR=\"localhost\"\n",
    "PORT=5432\n",
    "USERNAME=\"postgres\"\n",
    "PASSWORD=\"postgres\"\n",
    "DBNAME=\"postgres\"\n",
    "\n",
    "ALGORITHM_PREFIX_NAME=\"fcm\"\n",
    "POINT_TABLE=f\"{ALGORITHM_PREFIX_NAME}_points\"\n",
    "CLUSTER_TABLE=f\"{ALGORITHM_PREFIX_NAME}_clusters\"\n",
    "PREDICTION_TABLE=f\"{ALGORITHM_PREFIX_NAME}_predict\"\n",
    "\n",
    "engine = create_engine(f\"postgresql://{USERNAME}:{PASSWORD}@{ADDR}:{PORT}/{DBNAME}\")"
   ]
  },
  {
   "cell_type": "code",
   "execution_count": 2,
   "outputs": [],
   "source": [
    "## Read data\n",
    "\n",
    "import pandas as pd\n",
    "import numpy as np\n",
    "\n",
    "\n",
    "df_origin = pd.read_sql_query(f\"SELECT * FROM {POINT_TABLE}\", engine)\n",
    "df_cluster_origin = pd.read_sql_query(f\"SELECT * FROM {CLUSTER_TABLE}\", engine)\n",
    "df_predict_origin = pd.read_sql_query(f\"SELECT * FROM {PREDICTION_TABLE}\", engine)\n",
    "\n",
    "df = df_origin.copy()\n",
    "df_cluster = df_cluster_origin.copy()\n",
    "df_predict = df_predict_origin.copy()\n",
    "\n",
    "\n"
   ],
   "metadata": {
    "collapsed": false,
    "pycharm": {
     "name": "#%%\n",
     "is_executing": false
    }
   }
  },
  {
   "cell_type": "code",
   "execution_count": 3,
   "outputs": [],
   "source": [
    "dates = df[\"timestamp\"]\n",
    "nm_df = np.stack(df[\"vector\"])\n",
    "\n",
    "\n",
    "dates_cluster = df[\"timestamp\"]\n",
    "nm_df_cluster = np.stack(df_cluster[\"vector\"])\n",
    "\n",
    "\n"
   ],
   "metadata": {
    "collapsed": false,
    "pycharm": {
     "name": "#%%\n",
     "is_executing": false
    }
   }
  },
  {
   "cell_type": "code",
   "execution_count": 4,
   "outputs": [],
   "source": [
    "## Transform to 2-D with PCA\n",
    "\n",
    "from sklearn.preprocessing import StandardScaler\n",
    "from sklearn.decomposition import PCA\n",
    "\n",
    "# Scale out data to normalize them\n",
    "scaler =  StandardScaler()\n",
    "x =scaler.fit_transform(nm_df)\n",
    "x_cluster = scaler.fit_transform(nm_df_cluster)"
   ],
   "metadata": {
    "collapsed": false,
    "pycharm": {
     "name": "#%% \n",
     "is_executing": false
    }
   }
  },
  {
   "cell_type": "code",
   "execution_count": 5,
   "outputs": [],
   "source": [
    "# 2-D layout\n",
    "\n",
    "pca = PCA(n_components=2)\n",
    "\n",
    "principalComponents = pca.fit_transform(x)\n",
    "principalComponents_cluster = pca.fit_transform(x_cluster)\n",
    "\n",
    "principalDF = pd.DataFrame(data = principalComponents, columns=[\"x\", \"y\"])\n",
    "principalDF_cluster = pd.DataFrame(data = principalComponents_cluster, columns=[\"x\", \"y\"])\n",
    "\n"
   ],
   "metadata": {
    "collapsed": false,
    "pycharm": {
     "name": "#%%\n",
     "is_executing": false
    }
   }
  },
  {
   "cell_type": "code",
   "execution_count": 6,
   "outputs": [
    {
     "data": {
      "text/plain": "<matplotlib.axes._subplots.AxesSubplot at 0x7facd4241e50>"
     },
     "metadata": {},
     "output_type": "execute_result",
     "execution_count": 6
    },
    {
     "data": {
      "text/plain": "<Figure size 432x288 with 1 Axes>",
      "image/png": "[encoded data removed]"
     },
     "metadata": {
      "needs_background": "light"
     },
     "output_type": "display_data"
    },
    {
     "data": {
      "text/plain": "<Figure size 432x288 with 1 Axes>",
      "image/png": "[encoded data removed]"
     },
     "metadata": {
      "needs_background": "light"
     },
     "output_type": "display_data"
    }
   ],
   "source": [
    "## Plot data\n",
    "\n",
    "principalDF.plot.scatter(\"x\",\"y\")\n",
    "principalDF_cluster.plot.scatter(\"x\",\"y\")\n",
    "\n",
    "\n",
    "\n",
    "\n"
   ],
   "metadata": {
    "collapsed": false,
    "pycharm": {
     "name": "#%%\n",
     "is_executing": false
    }
   }
  },
  {
   "cell_type": "code",
   "execution_count": 7,
   "outputs": [
    {
     "data": {
      "text/plain": "                    timestamp                                      point  \\\n0     2020-06-20T15:56:25.033  [-0.6399675549897559, 21.399772031347336]   \n1     2020-06-20T15:56:25.034    [6.980725962622961, 19.824498172786374]   \n2     2020-06-20T15:56:25.034     [7.58263827605494, 21.278918821284172]   \n3     2020-06-20T15:56:25.037   [1.5805295893540423, 18.942874275052127]   \n4     2020-06-20T15:56:25.035     [9.387218749530083, 20.63913694166832]   \n...                       ...                                        ...   \n1225  2020-06-20T15:57:36.639    [25.702320989925617, 40.72786763310632]   \n1226  2020-06-20T15:57:36.640     [23.67499823570182, 41.35962767191375]   \n1227  2020-06-20T15:57:36.640    [33.043834363516325, 39.06605502861627]   \n1228  2020-06-20T15:57:36.641    [28.553808797061205, 39.79133437382992]   \n1229  2020-06-20T15:57:36.644    [22.083512099776147, 40.01211435276255]   \n\n      labels                                    membership  \n0     [0, 1]    [0.9846117170326498, 0.015388282967350085]  \n1     [0, 1]   [0.0001669174673078809, 0.9998330825326923]  \n2     [0, 1]   [0.0011544311127733478, 0.9988455688872268]  \n3     [0, 1]  [0.9996285720506897, 0.00037142794931027575]  \n4     [0, 1]    [0.004383286863657165, 0.9956167131363429]  \n...      ...                                           ...  \n1225  [0, 1]    [0.9999950324684541, 4.96753154601811e-06]  \n1226  [0, 1]    [0.9964420564628125, 0.003557943537187625]  \n1227  [0, 1]   [3.473814256074853e-05, 0.9999652618574391]  \n1228  [0, 1]      [0.8066849851021882, 0.1933150148978118]  \n1229  [0, 1]    [0.9863625329046347, 0.013637467095365183]  \n\n[1230 rows x 4 columns]",
      "text/html": "<div>\n<style scoped>\n    .dataframe tbody tr th:only-of-type {\n        vertical-align: middle;\n    }\n\n    .dataframe tbody tr th {\n        vertical-align: top;\n    }\n\n    .dataframe thead th {\n        text-align: right;\n    }\n</style>\n<table border=\"1\" class=\"dataframe\">\n  <thead>\n    <tr style=\"text-align: right;\">\n      <th></th>\n      <th>timestamp</th>\n      <th>point</th>\n      <th>labels</th>\n      <th>membership</th>\n    </tr>\n  </thead>\n  <tbody>\n    <tr>\n      <th>0</th>\n      <td>2020-06-20T15:56:25.033</td>\n      <td>[-0.6399675549897559, 21.399772031347336]</td>\n      <td>[0, 1]</td>\n      <td>[0.9846117170326498, 0.015388282967350085]</td>\n    </tr>\n    <tr>\n      <th>1</th>\n      <td>2020-06-20T15:56:25.034</td>\n      <td>[6.980725962622961, 19.824498172786374]</td>\n      <td>[0, 1]</td>\n      <td>[0.0001669174673078809, 0.9998330825326923]</td>\n    </tr>\n    <tr>\n      <th>2</th>\n      <td>2020-06-20T15:56:25.034</td>\n      <td>[7.58263827605494, 21.278918821284172]</td>\n      <td>[0, 1]</td>\n      <td>[0.0011544311127733478, 0.9988455688872268]</td>\n    </tr>\n    <tr>\n      <th>3</th>\n      <td>2020-06-20T15:56:25.037</td>\n      <td>[1.5805295893540423, 18.942874275052127]</td>\n      <td>[0, 1]</td>\n      <td>[0.9996285720506897, 0.00037142794931027575]</td>\n    </tr>\n    <tr>\n      <th>4</th>\n      <td>2020-06-20T15:56:25.035</td>\n      <td>[9.387218749530083, 20.63913694166832]</td>\n      <td>[0, 1]</td>\n      <td>[0.004383286863657165, 0.9956167131363429]</td>\n    </tr>\n    <tr>\n      <th>...</th>\n      <td>...</td>\n      <td>...</td>\n      <td>...</td>\n      <td>...</td>\n    </tr>\n    <tr>\n      <th>1225</th>\n      <td>2020-06-20T15:57:36.639</td>\n      <td>[25.702320989925617, 40.72786763310632]</td>\n      <td>[0, 1]</td>\n      <td>[0.9999950324684541, 4.96753154601811e-06]</td>\n    </tr>\n    <tr>\n      <th>1226</th>\n      <td>2020-06-20T15:57:36.640</td>\n      <td>[23.67499823570182, 41.35962767191375]</td>\n      <td>[0, 1]</td>\n      <td>[0.9964420564628125, 0.003557943537187625]</td>\n    </tr>\n    <tr>\n      <th>1227</th>\n      <td>2020-06-20T15:57:36.640</td>\n      <td>[33.043834363516325, 39.06605502861627]</td>\n      <td>[0, 1]</td>\n      <td>[3.473814256074853e-05, 0.9999652618574391]</td>\n    </tr>\n    <tr>\n      <th>1228</th>\n      <td>2020-06-20T15:57:36.641</td>\n      <td>[28.553808797061205, 39.79133437382992]</td>\n      <td>[0, 1]</td>\n      <td>[0.8066849851021882, 0.1933150148978118]</td>\n    </tr>\n    <tr>\n      <th>1229</th>\n      <td>2020-06-20T15:57:36.644</td>\n      <td>[22.083512099776147, 40.01211435276255]</td>\n      <td>[0, 1]</td>\n      <td>[0.9863625329046347, 0.013637467095365183]</td>\n    </tr>\n  </tbody>\n</table>\n<p>1230 rows × 4 columns</p>\n</div>"
     },
     "metadata": {},
     "output_type": "execute_result",
     "execution_count": 7
    }
   ],
   "source": [
    "\n",
    "df_predict\n"
   ],
   "metadata": {
    "collapsed": false,
    "pycharm": {
     "name": "#%%\n",
     "is_executing": false
    }
   }
  }
 ],
 "metadata": {
  "kernelspec": {
   "name": "python3",
   "language": "python",
   "display_name": "Python 3"
  },
  "language_info": {
   "codemirror_mode": {
    "name": "ipython",
    "version": 2
   },
   "file_extension": ".py",
   "mimetype": "text/x-python",
   "name": "python",
   "nbconvert_exporter": "python",
   "pygments_lexer": "ipython2",
   "version": "2.7.6"
  },
  "pycharm": {
   "stem_cell": {
    "cell_type": "raw",
    "source": [],
    "metadata": {
     "collapsed": false
    }
   }
  }
 },
 "nbformat": 4,
 "nbformat_minor": 0
}